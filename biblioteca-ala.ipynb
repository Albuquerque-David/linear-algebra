{
 "cells": [
  {
   "cell_type": "code",
   "execution_count": 96,
   "metadata": {},
   "outputs": [],
   "source": [
    "using LinearAlgebra;\n",
    "using RowEchelon"
   ]
  },
  {
   "cell_type": "code",
   "execution_count": 6,
   "metadata": {},
   "outputs": [
    {
     "data": {
      "text/plain": [
       "gera_matriz_identidade (generic function with 1 method)"
      ]
     },
     "metadata": {},
     "output_type": "display_data"
    }
   ],
   "source": [
    "function gera_matriz_identidade(tamanho)\n",
    "    identidade = zeros(tamanho,tamanho)\n",
    "    for i in 1:tamanho\n",
    "        identidade[i,i] = 1.0\n",
    "    end\n",
    "    return identidade\n",
    "end"
   ]
  },
  {
   "cell_type": "code",
   "execution_count": 4,
   "metadata": {},
   "outputs": [
    {
     "data": {
      "text/plain": [
       "eh_matriz_ortogonal (generic function with 1 method)"
      ]
     },
     "metadata": {},
     "output_type": "display_data"
    }
   ],
   "source": [
    "function eh_matriz_ortogonal(v)\n",
    "    tamanho1, tamanho2 = size(v)\n",
    "    identidade = gera_matriz_identidade(tamanho2)\n",
    "    return v'v == identidade\n",
    "end"
   ]
  },
  {
   "cell_type": "code",
   "execution_count": 7,
   "metadata": {},
   "outputs": [
    {
     "data": {
      "text/plain": [
       "5×5 Array{Float64,2}:\n",
       " 1.0  0.0  0.0  0.0  0.0\n",
       " 0.0  1.0  0.0  0.0  0.0\n",
       " 0.0  0.0  1.0  0.0  0.0\n",
       " 0.0  0.0  0.0  1.0  0.0\n",
       " 0.0  0.0  0.0  0.0  1.0"
      ]
     },
     "metadata": {},
     "output_type": "display_data"
    }
   ],
   "source": [
    "gera_matriz_identidade(5)"
   ]
  },
  {
   "cell_type": "code",
   "execution_count": 11,
   "metadata": {},
   "outputs": [
    {
     "data": {
      "text/plain": [
       "true"
      ]
     },
     "metadata": {},
     "output_type": "display_data"
    }
   ],
   "source": [
    "A = [1 0 0; 0 1 0; 0 0 1]\n",
    "eh_matriz_ortogonal(A)"
   ]
  },
  {
   "cell_type": "code",
   "execution_count": 12,
   "metadata": {},
   "outputs": [
    {
     "data": {
      "text/plain": [
       "true"
      ]
     },
     "metadata": {},
     "output_type": "display_data"
    }
   ],
   "source": [
    "B = [1/sqrt(2) 1/sqrt(2); -1/sqrt(2) 1/sqrt(2)]\n",
    "eh_matriz_ortogonal(A)"
   ]
  },
  {
   "cell_type": "code",
   "execution_count": 13,
   "metadata": {},
   "outputs": [
    {
     "data": {
      "text/plain": [
       "true"
      ]
     },
     "metadata": {},
     "output_type": "display_data"
    }
   ],
   "source": [
    "C = [4/5 -3/5; 3/5 4/5]\n",
    "eh_matriz_ortogonal(A)"
   ]
  },
  {
   "cell_type": "code",
   "execution_count": 14,
   "metadata": {},
   "outputs": [
    {
     "data": {
      "text/plain": [
       "true"
      ]
     },
     "metadata": {},
     "output_type": "display_data"
    }
   ],
   "source": [
    "D = [sqrt(3)/2 -1/2; 1/2 sqrt(3)/2]\n",
    "eh_matriz_ortogonal(A)"
   ]
  },
  {
   "cell_type": "code",
   "execution_count": 63,
   "metadata": {},
   "outputs": [
    {
     "data": {
      "text/plain": [
       "norma (generic function with 1 method)"
      ]
     },
     "metadata": {},
     "output_type": "display_data"
    }
   ],
   "source": [
    "function norma(x) #recebe um vetor x e retorna o tamanho/norma tal que norma = (X transposta * X)\n",
    "    tamanho = sqrt(x'*x)\n",
    "    return tamanho\n",
    "end"
   ]
  },
  {
   "cell_type": "code",
   "execution_count": 64,
   "metadata": {},
   "outputs": [
    {
     "data": {
      "text/plain": [
       "distancia (generic function with 1 method)"
      ]
     },
     "metadata": {},
     "output_type": "display_data"
    }
   ],
   "source": [
    "function distancia(x,y) # distância entre x e y\n",
    "    return norma(y-x)\n",
    "end"
   ]
  },
  {
   "cell_type": "code",
   "execution_count": 127,
   "metadata": {},
   "outputs": [
    {
     "data": {
      "text/plain": [
       "distancia_vetor_plano_com_vetor_perpendicular (generic function with 1 method)"
      ]
     },
     "metadata": {},
     "output_type": "display_data"
    }
   ],
   "source": [
    "function distancia_vetor_plano_com_vetor_perpendicular(vetor, vetor_plano1, vetor_plano2)\n",
    "    A = [vetor_plano1'; vetor_plano2']'\n",
    "    #vetor_perp = normalizar(perpendicular_ao_plano(A))\n",
    "    vetor_perp = [0;-1/sqrt(2);1/sqrt(2)]\n",
    "    lambda = vetor'*vetor_perp\n",
    "    vetor_dist = lambda*vetor_perp\n",
    "    return norma(vetor_dist)\n",
    "end"
   ]
  },
  {
   "cell_type": "code",
   "execution_count": 124,
   "metadata": {},
   "outputs": [
    {
     "data": {
      "text/plain": [
       "distancia_vetor_plano_com_minimos_quadrados (generic function with 1 method)"
      ]
     },
     "metadata": {},
     "output_type": "display_data"
    }
   ],
   "source": [
    "function distancia_vetor_plano_com_minimos_quadrados(vetor, vetor_plano1, vetor_plano2)\n",
    "    A = [vetor_plano1'; vetor_plano2']'\n",
    "    W = A'*A\n",
    "    V = A'*vetor\n",
    "\n",
    "    gauss=[W V]\n",
    "    gaussJordado = rref(gauss)\n",
    "    x1 = gaussJordado[1,3]\n",
    "    x2 = gaussJordado[2,3]\n",
    "    \n",
    "    projecao = x1*vetor_plano1 + x2*vetor_plano2\n",
    "    dist = norma(projecao-vetor)\n",
    "    return dist\n",
    "end"
   ]
  },
  {
   "cell_type": "code",
   "execution_count": 125,
   "metadata": {},
   "outputs": [
    {
     "data": {
      "text/plain": [
       "0.7071067811865476"
      ]
     },
     "metadata": {},
     "output_type": "display_data"
    }
   ],
   "source": [
    "vetor = [2; 2; 1] # 3x1\n",
    "vetor_plano1 = [1; 1; 1] # 3x1\n",
    "vetor_plano2 = [1; 0; 0] # 3x1\n",
    "distancia_vetor_plano(vetor, vetor_plano1, vetor_plano2)"
   ]
  },
  {
   "cell_type": "code",
   "execution_count": 129,
   "metadata": {},
   "outputs": [
    {
     "data": {
      "text/plain": [
       "0.0"
      ]
     },
     "metadata": {},
     "output_type": "display_data"
    }
   ],
   "source": [
    "vetor = [2; 2; 1] # 3x1\n",
    "vetor_plano1 = [1; 1; 1] # 3x1\n",
    "vetor_plano2 = [1; 0; 0] # 3x1\n",
    "distancia_vetor_plano(vetor, vetor_plano1, vetor_plano2)"
   ]
  }
 ],
 "metadata": {
  "kernelspec": {
   "display_name": "Julia 1.5.3",
   "language": "julia",
   "name": "julia-1.5"
  },
  "language_info": {
   "file_extension": ".jl",
   "mimetype": "application/julia",
   "name": "julia",
   "version": "1.5.3"
  },
  "orig_nbformat": 4
 },
 "nbformat": 4,
 "nbformat_minor": 2
}
