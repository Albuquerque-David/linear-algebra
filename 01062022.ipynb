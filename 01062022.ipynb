{
 "cells": [
  {
   "cell_type": "code",
   "execution_count": 12,
   "metadata": {},
   "outputs": [],
   "source": [
    "using LinearAlgebra\n",
    "using DelimitedFiles"
   ]
  },
  {
   "cell_type": "code",
   "execution_count": 246,
   "metadata": {},
   "outputs": [
    {
     "data": {
      "text/plain": [
       "3.0"
      ]
     },
     "metadata": {},
     "output_type": "display_data"
    }
   ],
   "source": [
    "x=[3.0;4]\n",
    "x[1]"
   ]
  },
  {
   "cell_type": "code",
   "execution_count": 4,
   "metadata": {},
   "outputs": [
    {
     "data": {
      "text/plain": [
       "norma (generic function with 1 method)"
      ]
     },
     "metadata": {},
     "output_type": "display_data"
    }
   ],
   "source": [
    "function norma(x) #recebe um vetor x e retorna o tamanho/norma tal que norma = (X transposta * X)\n",
    "    tamanho = sqrt(x'*x)\n",
    "    return tamanho\n",
    "end"
   ]
  },
  {
   "cell_type": "code",
   "execution_count": 248,
   "metadata": {},
   "outputs": [
    {
     "data": {
      "text/plain": [
       "5.0"
      ]
     },
     "metadata": {},
     "output_type": "display_data"
    }
   ],
   "source": [
    "x=[3.0;4]\n",
    "norma(x)"
   ]
  },
  {
   "cell_type": "code",
   "execution_count": 249,
   "metadata": {},
   "outputs": [
    {
     "data": {
      "text/plain": [
       "7.0710678118654755"
      ]
     },
     "metadata": {},
     "output_type": "display_data"
    }
   ],
   "source": [
    "x=[3.0;4;3;4]\n",
    "norma(x)"
   ]
  },
  {
   "cell_type": "code",
   "execution_count": 250,
   "metadata": {},
   "outputs": [
    {
     "data": {
      "text/plain": [
       "20.0"
      ]
     },
     "metadata": {},
     "output_type": "display_data"
    }
   ],
   "source": [
    "x=[3.0;4;3.0;4;3.0;4;3.0;4;3.0;4;3.0;4;3.0;4;3.0;4;3.0;4;3.0;4;3.0;4;3.0;4;3.0;4;3.0;4;3.0;4;3.0;4]\n",
    "norma(x)"
   ]
  },
  {
   "cell_type": "code",
   "execution_count": 5,
   "metadata": {},
   "outputs": [
    {
     "data": {
      "text/plain": [
       "distancia (generic function with 1 method)"
      ]
     },
     "metadata": {},
     "output_type": "display_data"
    }
   ],
   "source": [
    "function distancia(x,y) # distância entre x e y\n",
    "    return norma(y-x)\n",
    "end"
   ]
  },
  {
   "cell_type": "code",
   "execution_count": 252,
   "metadata": {},
   "outputs": [
    {
     "data": {
      "text/plain": [
       "4-element Array{Float64,1}:\n",
       "  2.0\n",
       "  2.0\n",
       " -3.0\n",
       "  2.0"
      ]
     },
     "metadata": {},
     "output_type": "display_data"
    }
   ],
   "source": [
    "x=[3.0;4;3;4]\n",
    "y=[1.0;2;6;2]\n",
    "x-y"
   ]
  },
  {
   "cell_type": "code",
   "execution_count": 253,
   "metadata": {},
   "outputs": [
    {
     "data": {
      "text/plain": [
       "4.58257569495584"
      ]
     },
     "metadata": {},
     "output_type": "display_data"
    }
   ],
   "source": [
    "x=[3.0;4;3;4]\n",
    "y=[1.0;2;6;2]\n",
    "distancia(x,y)"
   ]
  },
  {
   "cell_type": "code",
   "execution_count": 254,
   "metadata": {},
   "outputs": [
    {
     "data": {
      "text/plain": [
       "normalizar (generic function with 1 method)"
      ]
     },
     "metadata": {},
     "output_type": "display_data"
    }
   ],
   "source": [
    "function normalizar(x) # entrada: um vetor x. saida: um vetor v tal que norma(v)=1 e na mesma direção que x\n",
    "    return x/norma(x)\n",
    "end"
   ]
  },
  {
   "cell_type": "code",
   "execution_count": 255,
   "metadata": {},
   "outputs": [
    {
     "data": {
      "text/plain": [
       "1×1 Array{Float64,2}:\n",
       " 0.9999999999999998"
      ]
     },
     "metadata": {},
     "output_type": "display_data"
    }
   ],
   "source": [
    "x=rand(200,1)\n",
    "norma(normalizar(x))"
   ]
  },
  {
   "cell_type": "code",
   "execution_count": 256,
   "metadata": {},
   "outputs": [
    {
     "data": {
      "text/plain": [
       "projecao (generic function with 1 method)"
      ]
     },
     "metadata": {},
     "output_type": "display_data"
    }
   ],
   "source": [
    "function projecao(x,y) # entrada: um vetor x e y em Rn. saída: vetor p tal que p é projeção ortogonal de y na reta gerada pelo vetor x.\n",
    "    x_barra = normalizar(x)\n",
    "    λ = y'*x_barra # λ = tamanho da projeção\n",
    "    p = x_barra*λ # p = projeção\n",
    "    return p,λ\n",
    "end"
   ]
  },
  {
   "cell_type": "code",
   "execution_count": 257,
   "metadata": {},
   "outputs": [
    {
     "data": {
      "text/plain": [
       "([0.0, 0.0], 0.0)"
      ]
     },
     "metadata": {},
     "output_type": "display_data"
    }
   ],
   "source": [
    "x=[2.0;1]\n",
    "y=[-1.0;2]\n",
    "projecao(x,y)"
   ]
  },
  {
   "cell_type": "code",
   "execution_count": 258,
   "metadata": {},
   "outputs": [
    {
     "data": {
      "text/plain": [
       "([2.0, 1.0], 2.23606797749979)"
      ]
     },
     "metadata": {},
     "output_type": "display_data"
    }
   ],
   "source": [
    "x=[200.0;100]\n",
    "y=[2.0;1]\n",
    "projecao(x,y)"
   ]
  },
  {
   "cell_type": "code",
   "execution_count": 259,
   "metadata": {},
   "outputs": [
    {
     "data": {
      "text/plain": [
       "([0.9756645792959271; 0.1701516118680317; … ; 0.2327804941948581; 0.07247002549169189], [4.333225251980023])"
      ]
     },
     "metadata": {},
     "output_type": "display_data"
    }
   ],
   "source": [
    "y=rand(50,1)\n",
    "x=y*40\n",
    "projecao(x,y)"
   ]
  },
  {
   "cell_type": "code",
   "execution_count": 260,
   "metadata": {},
   "outputs": [
    {
     "data": {
      "text/plain": [
       "cosseno (generic function with 1 method)"
      ]
     },
     "metadata": {},
     "output_type": "display_data"
    }
   ],
   "source": [
    "# cosseno = tamanho da projeção / ||y||\n",
    "function cosseno(x,y) # entrada: dois vetores em Rn e saída um número que representa o cosseno entre x e y\n",
    "    _,λ = projecao(x,y)\n",
    "    n = norma(y)\n",
    "    return λ/n\n",
    "end"
   ]
  },
  {
   "cell_type": "code",
   "execution_count": 261,
   "metadata": {},
   "outputs": [
    {
     "data": {
      "text/plain": [
       "0.0"
      ]
     },
     "metadata": {},
     "output_type": "display_data"
    }
   ],
   "source": [
    "x=[1.0;0]\n",
    "y=[0.0;1]\n",
    "cosseno(x,y)"
   ]
  },
  {
   "cell_type": "code",
   "execution_count": 262,
   "metadata": {},
   "outputs": [
    {
     "data": {
      "text/plain": [
       "1.0"
      ]
     },
     "metadata": {},
     "output_type": "display_data"
    }
   ],
   "source": [
    "x=[3.0;4;5;8]\n",
    "y=[30.0;40;50;80]\n",
    "cosseno(x,y)"
   ]
  },
  {
   "cell_type": "code",
   "execution_count": 263,
   "metadata": {},
   "outputs": [
    {
     "data": {
      "text/plain": [
       "495.0010100999795"
      ]
     },
     "metadata": {},
     "output_type": "display_data"
    }
   ],
   "source": [
    "d1 = [3;4;0] #g1 flu, bola, sorvete\n",
    "livro = [300;400;1] #livro: flu, bola, sorvete\n",
    "distancia(d1,livro)"
   ]
  },
  {
   "cell_type": "code",
   "execution_count": 264,
   "metadata": {},
   "outputs": [
    {
     "data": {
      "text/plain": [
       "0.999998000006"
      ]
     },
     "metadata": {},
     "output_type": "display_data"
    }
   ],
   "source": [
    "d1 = [3;4;0] #g1 flu, bola, sorvete\n",
    "livro = [300;400;1] #livro: flu, bola, sorvete\n",
    "cosseno(d1,livro)"
   ]
  },
  {
   "cell_type": "code",
   "execution_count": 265,
   "metadata": {},
   "outputs": [
    {
     "data": {
      "text/plain": [
       "1.0"
      ]
     },
     "metadata": {},
     "output_type": "display_data"
    }
   ],
   "source": [
    "# Testa se os vetores estão na mesma direção\n",
    "cosseno(normalizar(x),x)"
   ]
  },
  {
   "cell_type": "code",
   "execution_count": 266,
   "metadata": {},
   "outputs": [
    {
     "data": {
      "text/plain": [
       "eh_perpendicular_rapido (generic function with 1 method)"
      ]
     },
     "metadata": {},
     "output_type": "display_data"
    }
   ],
   "source": [
    "function eh_perpendicular_rapido(x,y) # método \"rápido\"\n",
    "    return y'*x ≈ 0\n",
    "end"
   ]
  },
  {
   "cell_type": "code",
   "execution_count": 267,
   "metadata": {},
   "outputs": [
    {
     "data": {
      "text/plain": [
       "eh_perpendicular (generic function with 1 method)"
      ]
     },
     "metadata": {},
     "output_type": "display_data"
    }
   ],
   "source": [
    "function eh_perpendicular(x,y) \n",
    "    return cosseno(x,y) ≈ 0\n",
    "end"
   ]
  },
  {
   "cell_type": "code",
   "execution_count": 268,
   "metadata": {},
   "outputs": [
    {
     "data": {
      "text/plain": [
       "mesma_direcao (generic function with 1 method)"
      ]
     },
     "metadata": {},
     "output_type": "display_data"
    }
   ],
   "source": [
    "function mesma_direcao(x,y) \n",
    "    return cosseno(x,y) ≈ 1\n",
    "end"
   ]
  },
  {
   "cell_type": "code",
   "execution_count": 269,
   "metadata": {},
   "outputs": [
    {
     "data": {
      "text/plain": [
       "fatoracao (generic function with 1 method)"
      ]
     },
     "metadata": {},
     "output_type": "display_data"
    }
   ],
   "source": [
    "\n",
    "# [a1,a2] = [q1,q2] * [fatoracao]\n",
    "function fatoracao(a1,a2) # Dado a1,a2, retorne q1,q2 tal que q1 na mesma direção de a1 e norma(q1) = 1, norma(q2) = 1 e q1 é perpendicular a q2\n",
    "    q1 = normalizar(a1)\n",
    "    p,_=projecao(q1,a2)\n",
    "    diferenca = a2-p # esse vetor está perpendicular ao q1\n",
    "    q2=normalizar(diferenca)\n",
    "    return q1,q2\n",
    "end"
   ]
  },
  {
   "cell_type": "code",
   "execution_count": 270,
   "metadata": {},
   "outputs": [
    {
     "data": {
      "text/plain": [
       "([0.6, 0.8], [0.8000000000000007, -0.5999999999999991])"
      ]
     },
     "metadata": {},
     "output_type": "display_data"
    }
   ],
   "source": [
    "a1=[3;4]\n",
    "a2=[6;7]\n",
    "q1,q2 = fatoracao(a1,a2)"
   ]
  },
  {
   "cell_type": "code",
   "execution_count": 271,
   "metadata": {},
   "outputs": [
    {
     "data": {
      "text/plain": [
       "1.0"
      ]
     },
     "metadata": {},
     "output_type": "display_data"
    }
   ],
   "source": [
    "norma(q1)"
   ]
  },
  {
   "cell_type": "code",
   "execution_count": 272,
   "metadata": {},
   "outputs": [
    {
     "data": {
      "text/plain": [
       "1.0"
      ]
     },
     "metadata": {},
     "output_type": "display_data"
    }
   ],
   "source": [
    "norma(q2)"
   ]
  },
  {
   "cell_type": "code",
   "execution_count": 273,
   "metadata": {},
   "outputs": [
    {
     "data": {
      "text/plain": [
       "1.1102230246251565e-15"
      ]
     },
     "metadata": {},
     "output_type": "display_data"
    }
   ],
   "source": [
    "cosseno(q1,q2)"
   ]
  },
  {
   "cell_type": "code",
   "execution_count": 274,
   "metadata": {},
   "outputs": [
    {
     "data": {
      "text/plain": [
       "1.0"
      ]
     },
     "metadata": {},
     "output_type": "display_data"
    }
   ],
   "source": [
    "cosseno(a1,q1)"
   ]
  },
  {
   "cell_type": "code",
   "execution_count": 278,
   "metadata": {},
   "outputs": [
    {
     "data": {
      "text/plain": [
       "1.1102230246251565e-15"
      ]
     },
     "metadata": {},
     "output_type": "display_data"
    }
   ],
   "source": [
    "cosseno(q1,q2)"
   ]
  },
  {
   "cell_type": "code",
   "execution_count": 14,
   "metadata": {},
   "outputs": [
    {
     "name": "stdout",
     "output_type": "stream",
     "text": [
      "1.1950313803411188\n",
      "0.593295878967653\n",
      "1.3349157276772194\n",
      "1.0382677881933928\n"
     ]
    }
   ],
   "source": [
    "titanic = [0.82; 0.74; 0.34; 0.58; 0.1]\n",
    "rocky = [0.18; 0.26; 0.69; 0.42; 0.9]\n",
    "hobbit = [0.5; 0.5; 0.5; 0.5; 0.5]\n",
    "fightclub = [0.1; 0.2; 0.7; 0.4; 1.0]\n",
    "jurassicpark = [0.26; 0.32; 0.62; 0.44; 0.8]\n",
    "println(distancia(titanic,rocky))\n",
    "println(distancia(titanic,hobbit))\n",
    "println(distancia(titanic,fightclub))\n",
    "println(distancia(titanic,jurassicpark))\n"
   ]
  }
 ],
 "metadata": {
  "kernelspec": {
   "display_name": "Julia 1.5.3",
   "language": "julia",
   "name": "julia-1.5"
  },
  "language_info": {
   "file_extension": ".jl",
   "mimetype": "application/julia",
   "name": "julia",
   "version": "1.5.3"
  }
 },
 "nbformat": 4,
 "nbformat_minor": 4
}
