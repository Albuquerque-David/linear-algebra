{
 "cells": [
  {
   "cell_type": "markdown",
   "metadata": {},
   "source": [
    "# Algebra Linear Algorítmica - 2022.1 - Tarefa 1 - Professor João Paixão\n",
    "## Realizado por: David Rodrigues Albuquerque - 120047390\n",
    "## Realizado por: Matheus Barroso - 120041661\n",
    "## Realizado por: Gustavo Araújo - 119029119"
   ]
  },
  {
   "cell_type": "code",
   "execution_count": 1,
   "metadata": {},
   "outputs": [],
   "source": [
    "using Plots\n",
    "using LinearAlgebra\n",
    "using Random\n",
    "using Polynomials\n",
    "using DelimitedFiles;"
   ]
  },
  {
   "cell_type": "code",
   "execution_count": 2,
   "metadata": {},
   "outputs": [
    {
     "data": {
      "text/plain": [
       "estica_encolhe (generic function with 1 method)"
      ]
     },
     "metadata": {},
     "output_type": "display_data"
    }
   ],
   "source": [
    "function estica_encolhe(B,C,indice,fator)\n",
    "    n,=size(B)\n",
    "\n",
    "    for i in 1:n\n",
    "        B[i, indice]=(1/fator)*B[i, indice]\n",
    "    end\n",
    "\n",
    "    m,y=size(C)\n",
    "\n",
    "    for i in 1:y\n",
    "        C[indice, i]=fator*C[indice, i]\n",
    "    end\n",
    "\n",
    "    return B,C\n",
    "end"
   ]
  },
  {
   "cell_type": "code",
   "execution_count": 3,
   "metadata": {},
   "outputs": [
    {
     "data": {
      "text/plain": [
       "troca (generic function with 1 method)"
      ]
     },
     "metadata": {},
     "output_type": "display_data"
    }
   ],
   "source": [
    "function troca(B,C,i,j)\n",
    "    n,=size(B)\n",
    "\n",
    "    aux = zeros(n)\n",
    "\n",
    "    for k in 1:n\n",
    "        aux[k]=B[k, i]\n",
    "        B[k, i]=B[k, j]\n",
    "        B[k, j]=aux[k]\n",
    "    end\n",
    "\n",
    "    m,y=size(C)\n",
    "    aux2 = zeros(y)\n",
    "    for k in 1:y\n",
    "        \n",
    "        aux2[k]=C[i, k]\n",
    "        C[i, k]=C[j, k]\n",
    "        C[j, k]=aux2[k]\n",
    "    end\n",
    "    \n",
    "    return B,C\n",
    "end"
   ]
  },
  {
   "cell_type": "code",
   "execution_count": 4,
   "metadata": {},
   "outputs": [
    {
     "data": {
      "text/plain": [
       "soma_subtracao (generic function with 1 method)"
      ]
     },
     "metadata": {},
     "output_type": "display_data"
    }
   ],
   "source": [
    "function soma_subtracao(B,C,i,j,fator)\n",
    "    n,=size(B)    \n",
    "\n",
    "    for k in 1:n\n",
    "        B[k, j]+=fator*(B[k, i])\n",
    "    end\n",
    "\n",
    "    m,y=size(C)\n",
    "\n",
    "    for k in 1:y\n",
    "        C[i, k]-=fator*C[j, k]\n",
    "    end\n",
    "    \n",
    "    return B,C\n",
    "end"
   ]
  },
  {
   "cell_type": "code",
   "execution_count": 6,
   "metadata": {},
   "outputs": [
    {
     "name": "stdout",
     "output_type": "stream",
     "text": [
      "1.0\t2.0\t0.0\t4.0\t5.0\t50.0\n",
      "0.0\t0.0\t1.0\t0.0\t1.0\t1.0\n",
      "0.0\t0.0\t0.0\t0.0\t0.0\t0.0\n",
      "0.0\t0.0\t0.0\t0.0\t0.0\t0.0\n",
      "true\n"
     ]
    }
   ],
   "source": [
    "A = [2.0 4.0 1.0 8.0 11.0 101.0; 2.0 4.0 2.0 8.0 12.0 102.0; 2.0 4.0 3.0 8.0 13.0 103.0; 2.0 4.0 4.0 8.0 14.0 104.0]\n",
    "identidade = [1.0 0.0 0.0 0.0; 0.0 1.0 0.0 0.0; 0.0 0.0 1.0 0.0; 0.0 0.0 0.0 1.0]\n",
    "MatrizInicial = copy(A)\n",
    "\n",
    "identidade,A = estica_encolhe(identidade,A,1,.5)\n",
    "identidade,A = soma_subtracao(identidade,A,2,1,2)\n",
    "identidade,A = soma_subtracao(identidade,A,3,1,2)\n",
    "identidade,A = soma_subtracao(identidade,A,4,1,2)\n",
    "identidade,A = soma_subtracao(identidade,A,1,2,.5)\n",
    "identidade,A = soma_subtracao(identidade,A,3,2,2)\n",
    "identidade,A = soma_subtracao(identidade,A,4,2,3)\n",
    "writedlm(stdout, A)\n",
    "#teste para verificar se fatoração se manteve\n",
    "println(identidade*A == MatrizInicial)"
   ]
  }
 ],
 "metadata": {
  "kernelspec": {
   "display_name": "Julia 1.6.4",
   "language": "julia",
   "name": "julia-1.6"
  },
  "language_info": {
   "file_extension": ".jl",
   "mimetype": "application/julia",
   "name": "julia",
   "version": "1.6.4"
  }
 },
 "nbformat": 4,
 "nbformat_minor": 2
}
