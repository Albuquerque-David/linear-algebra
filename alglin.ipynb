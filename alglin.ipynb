{
 "cells": [
  {
   "cell_type": "markdown",
   "metadata": {},
   "source": [
    "# Algebra Linear Algorítmica - 2022.1 - Tarefa 1 - Professor João Paixão\n",
    "## Realizado por: David Rodrigues Albuquerque - 120047390\n",
    "## Realizado por: Matheus Barroso - xxxxxxx\n",
    "## Realizado por: Gustavo Araújo - xxxxxxxx"
   ]
  },
  {
   "cell_type": "code",
   "execution_count": 2,
   "metadata": {},
   "outputs": [],
   "source": [
    "using Plots\n",
    "using LinearAlgebra\n",
    "using Random\n",
    "using Polynomials"
   ]
  },
  {
   "cell_type": "code",
   "execution_count": 132,
   "metadata": {},
   "outputs": [
    {
     "data": {
      "text/plain": [
       "verifica_tamanho (generic function with 1 method)"
      ]
     },
     "metadata": {},
     "output_type": "display_data"
    }
   ],
   "source": [
    "# Entrada matriz A e b\n",
    "# Saida true  se a matriz A eh quadrada e se o numero de linhas da matriz B eh o mesmo numero de colunas da matriz A. False, caso contrario\n",
    "# Verifica se a matriz A eh quadrada e se o numero de linhas da matriz B eh o mesmo numero de colunas da matriz A.\n",
    "function verifica_tamanho(A,b)\n",
    "    if (size(A)[1] != size(A)[2]) # Verificando se a matriz eh quadrada\n",
    "        println(\"ERRO! Matriz A nao eh quadrada\")\n",
    "        return false\n",
    "    end\n",
    "\n",
    "    if (size(b)[1] != size(A)[2]) # Verificando se o numero de linhas de B eh o mesmo que de colunas de A\n",
    "        println(\"ERRO! O numero de linhas da matriz B não eh o mesmo do numero de colunas da matriz A\")\n",
    "        return false\n",
    "    end\n",
    "    \n",
    "    return true\n",
    "end"
   ]
  },
  {
   "cell_type": "code",
   "execution_count": 45,
   "metadata": {},
   "outputs": [
    {
     "data": {
      "text/plain": [
       "estica_encolhe (generic function with 1 method)"
      ]
     },
     "metadata": {},
     "output_type": "display_data"
    }
   ],
   "source": [
    "function estica_encolhe(B,C,indice,fator)\n",
    "    n,=size(B)\n",
    "\n",
    "    for i in 1:n\n",
    "        B[i, indice]=(1/fator)*B[i, indice]\n",
    "    end\n",
    "\n",
    "    m,y=size(C)\n",
    "\n",
    "    for i in 1:y\n",
    "        C[indice, i]=fator*C[indice, i]\n",
    "    end\n",
    "\n",
    "    return B,C\n",
    "end"
   ]
  },
  {
   "cell_type": "code",
   "execution_count": 58,
   "metadata": {},
   "outputs": [
    {
     "data": {
      "text/plain": [
       "troca (generic function with 1 method)"
      ]
     },
     "metadata": {},
     "output_type": "display_data"
    }
   ],
   "source": [
    "function troca(B,C,i,j)\n",
    "    n,=size(B)\n",
    "\n",
    "    aux = zeros(n)\n",
    "\n",
    "    for k in 1:n\n",
    "        aux[k]=B[k, i]\n",
    "        B[k, i]=B[k, j]\n",
    "        B[k, j]=aux[k]\n",
    "    end\n",
    "\n",
    "    m,y=size(C)\n",
    "    aux2 = zeros(y)\n",
    "    for k in 1:y\n",
    "        \n",
    "        aux2[k]=C[i, k]\n",
    "        C[i, k]=C[j, k]\n",
    "        C[j, k]=aux2[k]\n",
    "    end\n",
    "    \n",
    "    return B,C\n",
    "end"
   ]
  },
  {
   "cell_type": "code",
   "execution_count": 65,
   "metadata": {},
   "outputs": [
    {
     "data": {
      "text/plain": [
       "soma_subtracao (generic function with 1 method)"
      ]
     },
     "metadata": {},
     "output_type": "display_data"
    }
   ],
   "source": [
    "function soma_subtracao(B,C,i,j,fator)\n",
    "    n,=size(B)    \n",
    "\n",
    "    for k in 1:n\n",
    "        B[k, j]+=fator*(B[k, i])\n",
    "    end\n",
    "\n",
    "    m,y=size(C)\n",
    "\n",
    "    for k in 1:y\n",
    "        C[i, k]-=fator*C[j, k]\n",
    "    end\n",
    "    \n",
    "    return B,C\n",
    "end"
   ]
  },
  {
   "cell_type": "code",
   "execution_count": 72,
   "metadata": {},
   "outputs": [
    {
     "name": "stdout",
     "output_type": "stream",
     "text": [
      "[2.0 4.0 1.0 8.0 11.0 101.0; 0.0 0.0 1.0 0.0 1.0 1.0; 0.0 0.0 2.0 0.0 2.0 2.0; 0.0 0.0 3.0 0.0 3.0 3.0]\n"
     ]
    }
   ],
   "source": [
    "A = [2.0 4.0 1.0 8.0 11.0 101.0; 2.0 4.0 2.0 8.0 12.0 102.0; 2.0 4.0 3.0 8.0 13.0 103.0; 2.0 4.0 4.0 8.0 14.0 104.0]\n",
    "identidade = [1.0 0.0 0.0 0.0; 0.0 1.0 0.0 0.0; 0.0 0.0 1.0 0.0; 0.0 0.0 0.0 1.0]\n",
    "\n",
    "#identidade,A = estica_encolhe(identidade,A,1,2)\n",
    "#identidade,A = troca(identidade,A,1,2)\n",
    "identidade,A = soma_subtracao(identidade,A,2,1,1)\n",
    "identidade,A = soma_subtracao(identidade,A,3,1,1)\n",
    "identidade,A = soma_subtracao(identidade,A,4,1,1)\n",
    "println(A)"
   ]
  }
 ],
 "metadata": {
  "kernelspec": {
   "display_name": "Julia 1.5.3",
   "language": "julia",
   "name": "julia-1.5"
  },
  "language_info": {
   "file_extension": ".jl",
   "mimetype": "application/julia",
   "name": "julia",
   "version": "1.5.3"
  }
 },
 "nbformat": 4,
 "nbformat_minor": 2
}
