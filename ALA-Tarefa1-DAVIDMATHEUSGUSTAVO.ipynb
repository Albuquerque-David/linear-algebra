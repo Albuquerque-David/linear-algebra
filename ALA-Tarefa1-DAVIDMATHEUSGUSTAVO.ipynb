{
 "cells": [
  {
   "cell_type": "markdown",
   "metadata": {},
   "source": [
    "# Algebra Linear Algorítmica - 2022.1 - Tarefa 1 - Professor João Paixão\n",
    "## Realizado por: David Rodrigues Albuquerque - 120047390\n",
    "## Realizado por: Matheus Barroso - 120041661\n",
    "## Realizado por: Gustavo Araújo - 119029119"
   ]
  },
  {
   "cell_type": "code",
   "execution_count": 2,
   "metadata": {},
   "outputs": [],
   "source": [
    "using Plots\n",
    "using LinearAlgebra\n",
    "using Random\n",
    "using Polynomials"
   ]
  },
  {
   "cell_type": "code",
   "execution_count": 45,
   "metadata": {},
   "outputs": [
    {
     "data": {
      "text/plain": [
       "estica_encolhe (generic function with 1 method)"
      ]
     },
     "metadata": {},
     "output_type": "display_data"
    }
   ],
   "source": [
    "function estica_encolhe(B,C,indice,fator)\n",
    "    n,=size(B)\n",
    "\n",
    "    for i in 1:n\n",
    "        B[i, indice]=(1/fator)*B[i, indice]\n",
    "    end\n",
    "\n",
    "    m,y=size(C)\n",
    "\n",
    "    for i in 1:y\n",
    "        C[indice, i]=fator*C[indice, i]\n",
    "    end\n",
    "\n",
    "    return B,C\n",
    "end"
   ]
  },
  {
   "cell_type": "code",
   "execution_count": 58,
   "metadata": {},
   "outputs": [
    {
     "data": {
      "text/plain": [
       "troca (generic function with 1 method)"
      ]
     },
     "metadata": {},
     "output_type": "display_data"
    }
   ],
   "source": [
    "function troca(B,C,i,j)\n",
    "    n,=size(B)\n",
    "\n",
    "    aux = zeros(n)\n",
    "\n",
    "    for k in 1:n\n",
    "        aux[k]=B[k, i]\n",
    "        B[k, i]=B[k, j]\n",
    "        B[k, j]=aux[k]\n",
    "    end\n",
    "\n",
    "    m,y=size(C)\n",
    "    aux2 = zeros(y)\n",
    "    for k in 1:y\n",
    "        \n",
    "        aux2[k]=C[i, k]\n",
    "        C[i, k]=C[j, k]\n",
    "        C[j, k]=aux2[k]\n",
    "    end\n",
    "    \n",
    "    return B,C\n",
    "end"
   ]
  },
  {
   "cell_type": "code",
   "execution_count": 65,
   "metadata": {},
   "outputs": [
    {
     "data": {
      "text/plain": [
       "soma_subtracao (generic function with 1 method)"
      ]
     },
     "metadata": {},
     "output_type": "display_data"
    }
   ],
   "source": [
    "function soma_subtracao(B,C,i,j,fator)\n",
    "    n,=size(B)    \n",
    "\n",
    "    for k in 1:n\n",
    "        B[k, j]+=fator*(B[k, i])\n",
    "    end\n",
    "\n",
    "    m,y=size(C)\n",
    "\n",
    "    for k in 1:y\n",
    "        C[i, k]-=fator*C[j, k]\n",
    "    end\n",
    "    \n",
    "    return B,C\n",
    "end"
   ]
  }
 ],
 "metadata": {
  "kernelspec": {
   "display_name": "Julia 1.5.3",
   "language": "julia",
   "name": "julia-1.5"
  },
  "language_info": {
   "file_extension": ".jl",
   "mimetype": "application/julia",
   "name": "julia",
   "version": "1.5.3"
  }
 },
 "nbformat": 4,
 "nbformat_minor": 2
}
